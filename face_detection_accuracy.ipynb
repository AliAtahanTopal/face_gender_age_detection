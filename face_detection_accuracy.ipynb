{
 "cells": [
  {
   "cell_type": "code",
   "execution_count": 66,
   "id": "70a85eb1-3070-49de-a4b9-667343e78ce0",
   "metadata": {},
   "outputs": [],
   "source": [
    "import tensorflow as tf\n",
    "import tensorflow_datasets as tdfs\n",
    "import tensorflow_ranking as tfr\n",
    "import cv2\n",
    "import json\n",
    "import numpy as np\n",
    "import pandas as pd\n",
    "from matplotlib import pyplot as plt\n",
    "from keras.utils import load_img\n",
    "from tensorflow.keras.models import load_model\n",
    "from PIL import Image\n",
    "from tqdm import tqdm\n",
    "import os\n",
    "from collections import namedtuple"
   ]
  },
  {
   "cell_type": "code",
   "execution_count": 67,
   "id": "7d628059-01fc-4739-8767-f73c9eba760b",
   "metadata": {
    "tags": []
   },
   "outputs": [],
   "source": [
    "def load_image(path): #reading the images from the given path as bytes and decoding them to create a tensorflow data pipeline\n",
    "    byte = tf.io.read_file(path)\n",
    "    image = tf.io.decode_jpeg(byte)\n",
    "    return image"
   ]
  },
  {
   "cell_type": "code",
   "execution_count": 68,
   "id": "f2d25140-3191-45ea-a015-c9a6b3b6d69a",
   "metadata": {},
   "outputs": [],
   "source": [
    "test_images = tf.data.Dataset.list_files('augmented_data\\\\test\\\\images\\\\*.jpg', shuffle=False)\n",
    "test_images = test_images.map(load_image)\n",
    "test_images = test_images.map(lambda x: tf.image.resize(x, (120,120)))\n",
    "test_images = test_images.map(lambda x: x/255)"
   ]
  },
  {
   "cell_type": "code",
   "execution_count": 69,
   "id": "5e66dcb1-eb51-4d32-a9cf-a6ad5bf7c660",
   "metadata": {},
   "outputs": [],
   "source": [
    "def load_labels(label_path):\n",
    "    with open(label_path.numpy(), 'r', encoding = 'utf-8') as f:\n",
    "        label = json.load(f)\n",
    "        \n",
    "    return [label['class']], label['bbox']"
   ]
  },
  {
   "cell_type": "code",
   "execution_count": 70,
   "id": "28f3a411-6f04-4e60-a894-f0c8229f876e",
   "metadata": {},
   "outputs": [],
   "source": [
    "test_labels = tf.data.Dataset.list_files('augmented_data\\\\test\\\\labels\\\\*.json', shuffle=False)\n",
    "test_labels = test_labels.map(lambda x: tf.py_function(load_labels, [x], [tf.uint8, tf.float16]))"
   ]
  },
  {
   "cell_type": "code",
   "execution_count": 71,
   "id": "12c7109c-9210-416e-a6ed-f955f2df1917",
   "metadata": {},
   "outputs": [],
   "source": [
    "test = tf.data.Dataset.zip((test_images, test_labels)).shuffle(1500).batch(900)"
   ]
  },
  {
   "cell_type": "code",
   "execution_count": 72,
   "id": "341be676-336a-4209-a72d-c8acca028483",
   "metadata": {},
   "outputs": [
    {
     "name": "stdout",
     "output_type": "stream",
     "text": [
      "Model: \"face_detector\"\n",
      "_________________________________________________________________\n",
      " Layer (type)                Output Shape              Param #   \n",
      "=================================================================\n",
      " model_1 (Functional)        [(None, 1),               16826181  \n",
      "                              (None, 4)]                         \n",
      "                                                                 \n",
      "=================================================================\n",
      "Total params: 16,826,181\n",
      "Trainable params: 16,826,181\n",
      "Non-trainable params: 0\n",
      "_________________________________________________________________\n"
     ]
    }
   ],
   "source": [
    "face_detector = load_model('face_detector')\n",
    "face_detector.summary()"
   ]
  },
  {
   "cell_type": "code",
   "execution_count": 73,
   "id": "0e9c090d-67b3-4c59-ab3b-fb22f92a0a2a",
   "metadata": {},
   "outputs": [
    {
     "name": "stdout",
     "output_type": "stream",
     "text": [
      "29/29 [==============================] - 13s 447ms/step\n"
     ]
    }
   ],
   "source": [
    "random_test_images = test.as_numpy_iterator()\n",
    "res = random_test_images.next()\n",
    "sample_img = res[0]\n",
    "sample_coordinates = res[1][1]\n",
    "y_pred_multiple = face_detector.predict(sample_img.reshape(900, 120, 120, 3))"
   ]
  },
  {
   "cell_type": "code",
   "execution_count": 74,
   "id": "01ff12d8-1e0f-492a-8fcc-ca2e3b29a06e",
   "metadata": {},
   "outputs": [
    {
     "data": {
      "text/plain": [
       "(900, 4)"
      ]
     },
     "execution_count": 74,
     "metadata": {},
     "output_type": "execute_result"
    }
   ],
   "source": [
    "y_pred_multiple[1].shape"
   ]
  },
  {
   "cell_type": "code",
   "execution_count": 75,
   "id": "846b845d-2873-4289-98a3-3642fc4c8f6e",
   "metadata": {},
   "outputs": [
    {
     "name": "stdout",
     "output_type": "stream",
     "text": [
      "1/1 [==============================] - 0s 55ms/step\n"
     ]
    }
   ],
   "source": [
    "test_ = tf.data.Dataset.zip((test_images, test_labels)).shuffle(1500).batch(1)\n",
    "random_test_images = test_.as_numpy_iterator()\n",
    "res = random_test_images.next()\n",
    "sample_img = res[0]\n",
    "sample_coordinates = res[1][1]\n",
    "y_pred = face_detector.predict(sample_img.reshape(1, 120, 120, 3))"
   ]
  },
  {
   "cell_type": "code",
   "execution_count": 76,
   "id": "b4a75e76-6258-49e8-aa1e-bf5374e9588c",
   "metadata": {},
   "outputs": [
    {
     "data": {
      "text/plain": [
       "([0.35036597, 0.036909565, 0.9975743, 0.98846954], [0.3464, 0.0257, 1.0, 1.0])"
      ]
     },
     "execution_count": 76,
     "metadata": {},
     "output_type": "execute_result"
    }
   ],
   "source": [
    "list(y_pred[1][0]), list(sample_coordinates[0])"
   ]
  },
  {
   "cell_type": "code",
   "execution_count": 77,
   "id": "c70facb3-ce87-4754-b0d1-637887990908",
   "metadata": {},
   "outputs": [
    {
     "data": {
      "text/plain": [
       "0.9679786085615781"
      ]
     },
     "execution_count": 77,
     "metadata": {},
     "output_type": "execute_result"
    }
   ],
   "source": [
    "map_metric = tfr.keras.metrics.MeanAveragePrecisionMetric(topn=2)\n",
    "bb_intersection_over_union(list(sample_coordinates[0]), list(y_pred[1][0]))"
   ]
  },
  {
   "cell_type": "code",
   "execution_count": 78,
   "id": "250ee071-e2a3-4363-b179-53df4fc3de51",
   "metadata": {},
   "outputs": [],
   "source": [
    "Detection = namedtuple(\"Detection\", [\"image_path\", \"gt\", \"pred\"])\n",
    "\n",
    "def intersection_over_union(boxA, boxB):\n",
    "    xA = max(boxA[0], boxB[0])\n",
    "    yA = max(boxA[1], boxB[1])\n",
    "    xB = min(boxA[2], boxB[2])\n",
    "    yB = min(boxA[3], boxB[3])\n",
    "\n",
    "    interArea = (xB - xA) * (yB - yA)\n",
    "\n",
    "    boxAArea = (boxA[2] - boxA[0]) * (boxA[3] - boxA[1])\n",
    "    boxBArea = (boxB[2] - boxB[0]) * (boxB[3] - boxB[1])\n",
    "\n",
    "    iou = interArea / float(boxAArea + boxBArea - interArea)\n",
    "\n",
    "    return iou"
   ]
  },
  {
   "cell_type": "code",
   "execution_count": 86,
   "id": "66442920-1ee7-47a6-86b7-74c2c20e9774",
   "metadata": {},
   "outputs": [
    {
     "name": "stderr",
     "output_type": "stream",
     "text": [
      "100%|████████████████████████████████████████████████████████████████████████████████████████████████████████████████| 900/900 [01:08<00:00, 13.20it/s]\n"
     ]
    }
   ],
   "source": [
    "test_ = tf.data.Dataset.zip((test_images, test_labels)).shuffle(1500).batch(1)\n",
    "correct_class = 0\n",
    "random_test_images = test_.as_numpy_iterator()\n",
    "incorrect_indexes = []\n",
    "avg_bbox_acc_sum = 0\n",
    "for a in tqdm(range(len(test_labels))):\n",
    "    res = random_test_images.next()\n",
    "    sample_img = res[0]\n",
    "    sample_class = res[1][0]\n",
    "    sample_coordinates = res[1][1]\n",
    "    y_pred = face_detector.predict(sample_img.reshape(1, 120, 120, 3), verbose=0)\n",
    "    \n",
    "    pred_class = 1\n",
    "    if y_pred[0][0][0] < 0.9:\n",
    "        pred_class = 0\n",
    "        \n",
    "    if sample_class[0][0] == pred_class:\n",
    "        correct_class += 1\n",
    "        if pred_class == 1:\n",
    "            map_metric = tfr.keras.metrics.MeanAveragePrecisionMetric(topn=2)\n",
    "            avg_bbox_acc_sum += (intersection_over_union(list(sample_coordinates[0]), list(y_pred[1][0])) * 100)\n",
    "    else:\n",
    "        incorrect_indexes.append(a)    "
   ]
  },
  {
   "cell_type": "code",
   "execution_count": 87,
   "id": "873c4da3-db94-4f72-8ebb-10ebb4f8ae67",
   "metadata": {},
   "outputs": [
    {
     "data": {
      "text/plain": [
       "65853.62474248659"
      ]
     },
     "execution_count": 87,
     "metadata": {},
     "output_type": "execute_result"
    }
   ],
   "source": [
    "avg_bbox_acc_sum "
   ]
  },
  {
   "cell_type": "code",
   "execution_count": 88,
   "id": "6c0d518b-2c16-418e-8fdd-1ffb4ac8b697",
   "metadata": {},
   "outputs": [
    {
     "data": {
      "text/plain": [
       "(896, 900)"
      ]
     },
     "execution_count": 88,
     "metadata": {},
     "output_type": "execute_result"
    }
   ],
   "source": [
    "correct_class, len(test_labels)"
   ]
  },
  {
   "cell_type": "code",
   "execution_count": 93,
   "id": "e827122f-acff-4f51-adec-9f0e542f4357",
   "metadata": {},
   "outputs": [
    {
     "data": {
      "text/plain": [
       "99.55555555555556"
      ]
     },
     "execution_count": 93,
     "metadata": {},
     "output_type": "execute_result"
    }
   ],
   "source": [
    "# correct face detection\n",
    "class_pred_accuracy = (correct_class * 100) / len(test_labels)\n",
    "class_pred_accuracy"
   ]
  },
  {
   "cell_type": "code",
   "execution_count": 90,
   "id": "d8cfdb8a-f668-415d-84c8-3ba883d2e62b",
   "metadata": {},
   "outputs": [
    {
     "data": {
      "text/plain": [
       "[191, 309, 715, 877]"
      ]
     },
     "execution_count": 90,
     "metadata": {},
     "output_type": "execute_result"
    }
   ],
   "source": [
    "incorrect_indexes"
   ]
  },
  {
   "cell_type": "code",
   "execution_count": 92,
   "id": "f8300c7f-cadf-4c50-a3c0-fdd10a021dfb",
   "metadata": {},
   "outputs": [
    {
     "data": {
      "text/plain": [
       "73.17069415831843"
      ]
     },
     "execution_count": 92,
     "metadata": {},
     "output_type": "execute_result"
    }
   ],
   "source": [
    "# Mean average precision \n",
    "avg_bbox_acc_sum / len(test_labels)"
   ]
  },
  {
   "cell_type": "code",
   "execution_count": null,
   "id": "d1bbf4c1-1511-4200-b8dd-b28e5819ce80",
   "metadata": {},
   "outputs": [],
   "source": []
  }
 ],
 "metadata": {
  "kernelspec": {
   "display_name": "Python 3 (ipykernel)",
   "language": "python",
   "name": "python3"
  },
  "language_info": {
   "codemirror_mode": {
    "name": "ipython",
    "version": 3
   },
   "file_extension": ".py",
   "mimetype": "text/x-python",
   "name": "python",
   "nbconvert_exporter": "python",
   "pygments_lexer": "ipython3",
   "version": "3.9.7"
  }
 },
 "nbformat": 4,
 "nbformat_minor": 5
}
